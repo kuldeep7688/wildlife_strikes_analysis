{
 "cells": [
  {
   "cell_type": "code",
   "execution_count": 1,
   "id": "b7835a72-4538-45e5-9aa2-dc08b3507d6c",
   "metadata": {},
   "outputs": [],
   "source": [
    "import pandas as pd\n",
    "import numpy as np\n",
    "import altair as alt"
   ]
  },
  {
   "cell_type": "code",
   "execution_count": 2,
   "id": "d63d01ce-d1f1-413f-8c05-846d732e56c9",
   "metadata": {},
   "outputs": [],
   "source": [
    "# merging all the files from faa website\n",
    "# df1 = pd.read_excel('../../courses/cmse-830/datasets/faa_wildlife_strikes/Wildlife_Export_1990_to_2005.xlsx')\n",
    "# df2 = pd.read_excel('../../courses/cmse-830/datasets/faa_wildlife_strikes/Wildlife_Export_2006_to_2010.xlsx')\n",
    "# df3 = pd.read_excel('../../courses/cmse-830/datasets/faa_wildlife_strikes/Wildlife_Export_2011_to_2015.xlsx')\n",
    "# df4 = pd.read_excel('../../courses/cmse-830/datasets/faa_wildlife_strikes/Wildlife_Export_2016_to_2019.xlsx')\n",
    "# df5 = pd.read_excel('../../courses/cmse-830/datasets/faa_wildlife_strikes/Wildlife_Export_2020_to_2022.xlsx')\n",
    "\n",
    "# df1.shape,  df2.shape, df3.shape, df4.shape, df5.shape \n",
    "\n",
    "# df = pd.concat([df1, df2, df3, df4, df5])\n",
    "# print(df.shape)\n",
    "# df.head()\n",
    "\n",
    "# df.to_csv('../../courses/cmse-830/datasets/faa_wildlife_strikes/all_compiled_data.csv', index=False)"
   ]
  },
  {
   "cell_type": "code",
   "execution_count": 3,
   "id": "be21cefc-3bdd-4bf4-b2ef-688fc98ae4b7",
   "metadata": {},
   "outputs": [],
   "source": [
    "# below are the finally selected field \n",
    "# 'INDX_NR', 'INCIDENT_DATE ', 'INCIDENT_MONTH', 'INCIDENT_YEAR', 'TIME', 'TIME_OF_DAY', 'AIRPORT_ID',\n",
    "# 'AIRPORT', 'LATITUDE', 'LONGITUDE', 'STATE', 'FAAREGION', 'LOCATION', 'OPID', \n",
    "# 'OPERATOR', 'REG', 'FLT', 'AIRCRAFT', 'AMA', 'AMO', 'EMA', 'EMO', 'AC_CLASS', 'AC_MASS', 'TYPE_ENG', 'NUM_ENGS', \n",
    "# 'ENG_1_POS', 'ENG_2_POS', 'ENG_3_POS', 'ENG_4_POS', 'PHASE_OF_FLIGHT', 'HEIGHT', 'SPEED', 'DISTANCE', 'SKY', 'PRECIPITATION',\n",
    "# 'AOS', 'COST_REPAIRS', 'COST_OTHER', 'COST_REPAIRS_INFL_ADJ', 'COST_OTHER_INFL_ADJ', 'INDICATED_DAMAGE', 'DAMAGE_LEVEL', \n",
    "# 'STR_RAD', 'DAM_RAD', 'STR_WINDSHLD', 'DAM_WINDSHLD', 'STR_NOSE', 'DAM_NOSE', 'STR_ENG1', 'DAM_ENG1', 'STR_ENG2', 'DAM_ENG2', \n",
    "# 'STR_ENG3', 'DAM_ENG3','STR_ENG4', 'DAM_ENG4', 'STR_PROP', 'DAM_PROP', 'STR_WING_ROT', 'DAM_WING_ROT', \n",
    "# 'STR_FUSE', 'DAM_FUSE', 'STR_LG', 'DAM_LG', 'STR_TAIL', 'DAM_TAIL', 'STR_LGHTS', 'DAM_LGHTS', 'STR_OTHER', 'DAM_OTHER',\n",
    "# 'SPECIES_ID', 'SPECIES', 'EFFECT', 'EFFECT_OTHER','WARNED', 'NUM_SEEN','NUM_STRUCK', 'NR_INJURIES', 'NR_FATALITIES', 'SIZE'\n",
    "\n",
    "# below are the rejected fields\n",
    "# 'RUNWAY',  'ENROUTE_STATE', \n",
    "# 'INGESTED_OTHER', \n",
    "#  'OTHER_SPECIFY',  'REMARKS', 'REMAINS_COLLECTED', 'REMAINS_SENT', 'BIRD_BAND_NUMBER',  \n",
    "# 'SIZE',  'COMMENTS', 'REPORTER_NAME', 'REPORTER_TITLE', 'SOURCE', 'PERSON', 'LUPDATE', 'IMAGE', 'TRANSFER'"
   ]
  },
  {
   "cell_type": "code",
   "execution_count": 37,
   "id": "37fc8b99-cf7e-467e-b2d2-2411fe62b1c4",
   "metadata": {},
   "outputs": [
    {
     "name": "stdout",
     "output_type": "stream",
     "text": [
      "(269231, 81)\n"
     ]
    },
    {
     "name": "stderr",
     "output_type": "stream",
     "text": [
      "/tmp/ipykernel_12162/2265809867.py:2: DtypeWarning: Columns (19,21) have mixed types. Specify dtype option on import or set low_memory=False.\n",
      "  df = pd.read_csv('../../courses/cmse-830/datasets/faa_wildlife_strikes/main_data.csv')\n"
     ]
    },
    {
     "data": {
      "text/html": [
       "<div>\n",
       "<style scoped>\n",
       "    .dataframe tbody tr th:only-of-type {\n",
       "        vertical-align: middle;\n",
       "    }\n",
       "\n",
       "    .dataframe tbody tr th {\n",
       "        vertical-align: top;\n",
       "    }\n",
       "\n",
       "    .dataframe thead th {\n",
       "        text-align: right;\n",
       "    }\n",
       "</style>\n",
       "<table border=\"1\" class=\"dataframe\">\n",
       "  <thead>\n",
       "    <tr style=\"text-align: right;\">\n",
       "      <th></th>\n",
       "      <th>INDX_NR</th>\n",
       "      <th>INCIDENT_DATE</th>\n",
       "      <th>INCIDENT_MONTH</th>\n",
       "      <th>INCIDENT_YEAR</th>\n",
       "      <th>TIME</th>\n",
       "      <th>TIME_OF_DAY</th>\n",
       "      <th>AIRPORT_ID</th>\n",
       "      <th>AIRPORT</th>\n",
       "      <th>LATITUDE</th>\n",
       "      <th>LONGITUDE</th>\n",
       "      <th>...</th>\n",
       "      <th>SPECIES_ID</th>\n",
       "      <th>SPECIES</th>\n",
       "      <th>EFFECT</th>\n",
       "      <th>EFFECT_OTHER</th>\n",
       "      <th>WARNED</th>\n",
       "      <th>NUM_SEEN</th>\n",
       "      <th>NUM_STRUCK</th>\n",
       "      <th>NR_INJURIES</th>\n",
       "      <th>NR_FATALITIES</th>\n",
       "      <th>SIZE</th>\n",
       "    </tr>\n",
       "  </thead>\n",
       "  <tbody>\n",
       "    <tr>\n",
       "      <th>0</th>\n",
       "      <td>675732</td>\n",
       "      <td>2005-12-31</td>\n",
       "      <td>12</td>\n",
       "      <td>2005</td>\n",
       "      <td>06:35</td>\n",
       "      <td>Night</td>\n",
       "      <td>KOAK</td>\n",
       "      <td>METRO OAKLAND INTL</td>\n",
       "      <td>37.72129</td>\n",
       "      <td>37.72129</td>\n",
       "      <td>...</td>\n",
       "      <td>UNKBM</td>\n",
       "      <td>Unknown bird - medium</td>\n",
       "      <td>NaN</td>\n",
       "      <td>NaN</td>\n",
       "      <td>Unknown</td>\n",
       "      <td></td>\n",
       "      <td>1</td>\n",
       "      <td>NaN</td>\n",
       "      <td>NaN</td>\n",
       "      <td>Medium</td>\n",
       "    </tr>\n",
       "    <tr>\n",
       "      <th>1</th>\n",
       "      <td>674956</td>\n",
       "      <td>2005-12-31</td>\n",
       "      <td>12</td>\n",
       "      <td>2005</td>\n",
       "      <td>07:30</td>\n",
       "      <td>Day</td>\n",
       "      <td>KSBA</td>\n",
       "      <td>SANTA BARBARA MUNICIPAL</td>\n",
       "      <td>34.42621</td>\n",
       "      <td>34.42621</td>\n",
       "      <td>...</td>\n",
       "      <td>ZT002</td>\n",
       "      <td>Western meadowlark</td>\n",
       "      <td>NaN</td>\n",
       "      <td>NaN</td>\n",
       "      <td>No</td>\n",
       "      <td></td>\n",
       "      <td>2-10</td>\n",
       "      <td>NaN</td>\n",
       "      <td>NaN</td>\n",
       "      <td>Small</td>\n",
       "    </tr>\n",
       "    <tr>\n",
       "      <th>2</th>\n",
       "      <td>673473</td>\n",
       "      <td>2005-12-31</td>\n",
       "      <td>12</td>\n",
       "      <td>2005</td>\n",
       "      <td>08:30</td>\n",
       "      <td>Day</td>\n",
       "      <td>KJFK</td>\n",
       "      <td>JOHN F KENNEDY INTL</td>\n",
       "      <td>40.63975</td>\n",
       "      <td>40.63975</td>\n",
       "      <td>...</td>\n",
       "      <td>ZX505</td>\n",
       "      <td>Snow bunting</td>\n",
       "      <td>None</td>\n",
       "      <td>NaN</td>\n",
       "      <td>Yes</td>\n",
       "      <td>2-10</td>\n",
       "      <td>2-10</td>\n",
       "      <td>NaN</td>\n",
       "      <td>NaN</td>\n",
       "      <td>Small</td>\n",
       "    </tr>\n",
       "    <tr>\n",
       "      <th>3</th>\n",
       "      <td>673474</td>\n",
       "      <td>2005-12-31</td>\n",
       "      <td>12</td>\n",
       "      <td>2005</td>\n",
       "      <td>11:45</td>\n",
       "      <td>Day</td>\n",
       "      <td>KJFK</td>\n",
       "      <td>JOHN F KENNEDY INTL</td>\n",
       "      <td>40.63975</td>\n",
       "      <td>40.63975</td>\n",
       "      <td>...</td>\n",
       "      <td>NE101</td>\n",
       "      <td>Herring gull</td>\n",
       "      <td>None, Aborted Take-off</td>\n",
       "      <td>NaN</td>\n",
       "      <td>Yes</td>\n",
       "      <td>1</td>\n",
       "      <td>1</td>\n",
       "      <td>NaN</td>\n",
       "      <td>NaN</td>\n",
       "      <td>Medium</td>\n",
       "    </tr>\n",
       "    <tr>\n",
       "      <th>4</th>\n",
       "      <td>676566</td>\n",
       "      <td>2005-12-31</td>\n",
       "      <td>12</td>\n",
       "      <td>2005</td>\n",
       "      <td>19:00</td>\n",
       "      <td>Night</td>\n",
       "      <td>KOAK</td>\n",
       "      <td>METRO OAKLAND INTL</td>\n",
       "      <td>37.72129</td>\n",
       "      <td>37.72129</td>\n",
       "      <td>...</td>\n",
       "      <td>UNKBM</td>\n",
       "      <td>Unknown bird - medium</td>\n",
       "      <td>None</td>\n",
       "      <td>NaN</td>\n",
       "      <td>Unknown</td>\n",
       "      <td></td>\n",
       "      <td>1</td>\n",
       "      <td>NaN</td>\n",
       "      <td>NaN</td>\n",
       "      <td>Medium</td>\n",
       "    </tr>\n",
       "  </tbody>\n",
       "</table>\n",
       "<p>5 rows × 81 columns</p>\n",
       "</div>"
      ],
      "text/plain": [
       "   INDX_NR INCIDENT_DATE   INCIDENT_MONTH  INCIDENT_YEAR   TIME TIME_OF_DAY  \\\n",
       "0   675732     2005-12-31              12           2005  06:35       Night   \n",
       "1   674956     2005-12-31              12           2005  07:30         Day   \n",
       "2   673473     2005-12-31              12           2005  08:30         Day   \n",
       "3   673474     2005-12-31              12           2005  11:45         Day   \n",
       "4   676566     2005-12-31              12           2005  19:00       Night   \n",
       "\n",
       "  AIRPORT_ID                  AIRPORT  LATITUDE  LONGITUDE  ... SPECIES_ID  \\\n",
       "0       KOAK       METRO OAKLAND INTL  37.72129   37.72129  ...      UNKBM   \n",
       "1       KSBA  SANTA BARBARA MUNICIPAL  34.42621   34.42621  ...      ZT002   \n",
       "2       KJFK      JOHN F KENNEDY INTL  40.63975   40.63975  ...      ZX505   \n",
       "3       KJFK      JOHN F KENNEDY INTL  40.63975   40.63975  ...      NE101   \n",
       "4       KOAK       METRO OAKLAND INTL  37.72129   37.72129  ...      UNKBM   \n",
       "\n",
       "                 SPECIES                   EFFECT EFFECT_OTHER   WARNED  \\\n",
       "0  Unknown bird - medium                      NaN          NaN  Unknown   \n",
       "1     Western meadowlark                      NaN          NaN       No   \n",
       "2           Snow bunting                     None          NaN      Yes   \n",
       "3           Herring gull   None, Aborted Take-off          NaN      Yes   \n",
       "4  Unknown bird - medium                     None          NaN  Unknown   \n",
       "\n",
       "  NUM_SEEN NUM_STRUCK NR_INJURIES NR_FATALITIES    SIZE  \n",
       "0                   1         NaN           NaN  Medium  \n",
       "1                2-10         NaN           NaN   Small  \n",
       "2     2-10       2-10         NaN           NaN   Small  \n",
       "3        1          1         NaN           NaN  Medium  \n",
       "4                   1         NaN           NaN  Medium  \n",
       "\n",
       "[5 rows x 81 columns]"
      ]
     },
     "execution_count": 37,
     "metadata": {},
     "output_type": "execute_result"
    }
   ],
   "source": [
    "# df = pd.read_csv('../../courses/cmse-830/datasets/faa_wildlife_strikes/all_compiled_data.csv')\n",
    "df = pd.read_csv('../../courses/cmse-830/datasets/faa_wildlife_strikes/main_data.csv')\n",
    "\n",
    "print(df.shape)\n",
    "df.head()"
   ]
  },
  {
   "cell_type": "code",
   "execution_count": 6,
   "id": "7e323345-ce5f-45b0-9c70-5e56fc584cf8",
   "metadata": {},
   "outputs": [],
   "source": [
    "# add the code to show description of the variables"
   ]
  },
  {
   "cell_type": "code",
   "execution_count": 15,
   "id": "5a22af67-d521-4902-a93d-514a38a73e4b",
   "metadata": {},
   "outputs": [],
   "source": [
    "# df['LONGITUDE'] = pd.to_numeric(df.LATITUDE)\n",
    "# df['INCIDENT_YEAR'] = pd.to_numeric(df.INCIDENT_YEAR)\n",
    "# df.to_csv('../../courses/cmse-830/datasets/faa_wildlife_strikes/main_data.csv', index=False)"
   ]
  },
  {
   "cell_type": "code",
   "execution_count": 20,
   "id": "068036db-54a7-4728-927e-449366c99074",
   "metadata": {},
   "outputs": [
    {
     "data": {
      "text/plain": [
       "22"
      ]
     },
     "execution_count": 20,
     "metadata": {},
     "output_type": "execute_result"
    }
   ],
   "source": [
    "a = list(df.describe().to_dict().keys())\n",
    "len(a)"
   ]
  },
  {
   "cell_type": "code",
   "execution_count": 43,
   "id": "938dcfee-fc07-4afd-9307-31f940c14bbb",
   "metadata": {
    "tags": []
   },
   "outputs": [
    {
     "data": {
      "text/plain": [
       "0         Night\n",
       "1           Day\n",
       "2           Day\n",
       "3           Day\n",
       "4         Night\n",
       "          ...  \n",
       "269226    Night\n",
       "269227      Day\n",
       "269228    Night\n",
       "269229      Day\n",
       "269230      Day\n",
       "Name: TIME_OF_DAY, Length: 269231, dtype: object"
      ]
     },
     "execution_count": 43,
     "metadata": {},
     "output_type": "execute_result"
    }
   ],
   "source": [
    "df['TIME_OF_DAY']"
   ]
  },
  {
   "cell_type": "code",
   "execution_count": 25,
   "id": "cb36db33-472f-4c67-8624-1c69fb849cd3",
   "metadata": {},
   "outputs": [
    {
     "data": {
      "text/plain": [
       "INCIDENT_DATE       object\n",
       "TIME                object\n",
       "TIME_OF_DAY         object\n",
       "AIRPORT_ID          object\n",
       "AIRPORT             object\n",
       "STATE               object\n",
       "FAAREGION           object\n",
       "LOCATION            object\n",
       "OPID                object\n",
       "OPERATOR            object\n",
       "REG                 object\n",
       "FLT                 object\n",
       "AIRCRAFT            object\n",
       "AMA                 object\n",
       "AMO                 object\n",
       "EMO                 object\n",
       "AC_CLASS            object\n",
       "TYPE_ENG            object\n",
       "PHASE_OF_FLIGHT     object\n",
       "SKY                 object\n",
       "PRECIPITATION       object\n",
       "INDICATED_DAMAGE      bool\n",
       "DAMAGE_LEVEL        object\n",
       "STR_RAD               bool\n",
       "DAM_RAD               bool\n",
       "STR_WINDSHLD          bool\n",
       "DAM_WINDSHLD          bool\n",
       "STR_NOSE              bool\n",
       "DAM_NOSE              bool\n",
       "STR_ENG1              bool\n",
       "DAM_ENG1              bool\n",
       "STR_ENG2              bool\n",
       "DAM_ENG2              bool\n",
       "STR_ENG3              bool\n",
       "DAM_ENG3              bool\n",
       "STR_ENG4              bool\n",
       "DAM_ENG4              bool\n",
       "STR_PROP              bool\n",
       "DAM_PROP              bool\n",
       "STR_WING_ROT          bool\n",
       "DAM_WING_ROT          bool\n",
       "STR_FUSE              bool\n",
       "DAM_FUSE              bool\n",
       "STR_LG                bool\n",
       "DAM_LG                bool\n",
       "STR_TAIL              bool\n",
       "DAM_TAIL              bool\n",
       "STR_LGHTS             bool\n",
       "DAM_LGHTS             bool\n",
       "STR_OTHER             bool\n",
       "DAM_OTHER             bool\n",
       "SPECIES_ID          object\n",
       "SPECIES             object\n",
       "EFFECT              object\n",
       "EFFECT_OTHER        object\n",
       "WARNED              object\n",
       "NUM_SEEN            object\n",
       "NUM_STRUCK          object\n",
       "SIZE                object\n",
       "dtype: object"
      ]
     },
     "execution_count": 25,
     "metadata": {},
     "output_type": "execute_result"
    }
   ],
   "source": [
    "df[[c for c in list(df.columns) if c not in a]].dtypes"
   ]
  },
  {
   "cell_type": "code",
   "execution_count": 45,
   "id": "afaa209a-aa34-4860-9058-d15b60107934",
   "metadata": {
    "tags": []
   },
   "outputs": [
    {
     "data": {
      "text/plain": [
       "Day      96152\n",
       "Night    47144\n",
       "Dusk      7145\n",
       "Dawn      5737\n",
       "Name: TIME_OF_DAY, dtype: int64"
      ]
     },
     "execution_count": 45,
     "metadata": {},
     "output_type": "execute_result"
    }
   ],
   "source": [
    "df.TIME_OF_DAY.value_counts()"
   ]
  },
  {
   "cell_type": "code",
   "execution_count": 28,
   "id": "aa115f1b-1b14-400f-ab97-3c060ba9e1cf",
   "metadata": {
    "collapsed": true,
    "jupyter": {
     "outputs_hidden": true
    },
    "tags": []
   },
   "outputs": [
    {
     "ename": "KeyError",
     "evalue": "'min'",
     "output_type": "error",
     "traceback": [
      "\u001b[0;31m---------------------------------------------------------------------------\u001b[0m",
      "\u001b[0;31mKeyError\u001b[0m                                  Traceback (most recent call last)",
      "File \u001b[0;32m~/anaconda3/envs/cmse_830/lib/python3.9/site-packages/pandas/core/indexes/base.py:3629\u001b[0m, in \u001b[0;36mIndex.get_loc\u001b[0;34m(self, key, method, tolerance)\u001b[0m\n\u001b[1;32m   3628\u001b[0m \u001b[38;5;28;01mtry\u001b[39;00m:\n\u001b[0;32m-> 3629\u001b[0m     \u001b[38;5;28;01mreturn\u001b[39;00m \u001b[38;5;28;43mself\u001b[39;49m\u001b[38;5;241;43m.\u001b[39;49m\u001b[43m_engine\u001b[49m\u001b[38;5;241;43m.\u001b[39;49m\u001b[43mget_loc\u001b[49m\u001b[43m(\u001b[49m\u001b[43mcasted_key\u001b[49m\u001b[43m)\u001b[49m\n\u001b[1;32m   3630\u001b[0m \u001b[38;5;28;01mexcept\u001b[39;00m \u001b[38;5;167;01mKeyError\u001b[39;00m \u001b[38;5;28;01mas\u001b[39;00m err:\n",
      "File \u001b[0;32m~/anaconda3/envs/cmse_830/lib/python3.9/site-packages/pandas/_libs/index.pyx:136\u001b[0m, in \u001b[0;36mpandas._libs.index.IndexEngine.get_loc\u001b[0;34m()\u001b[0m\n",
      "File \u001b[0;32m~/anaconda3/envs/cmse_830/lib/python3.9/site-packages/pandas/_libs/index.pyx:163\u001b[0m, in \u001b[0;36mpandas._libs.index.IndexEngine.get_loc\u001b[0;34m()\u001b[0m\n",
      "File \u001b[0;32mpandas/_libs/hashtable_class_helper.pxi:5198\u001b[0m, in \u001b[0;36mpandas._libs.hashtable.PyObjectHashTable.get_item\u001b[0;34m()\u001b[0m\n",
      "File \u001b[0;32mpandas/_libs/hashtable_class_helper.pxi:5206\u001b[0m, in \u001b[0;36mpandas._libs.hashtable.PyObjectHashTable.get_item\u001b[0;34m()\u001b[0m\n",
      "\u001b[0;31mKeyError\u001b[0m: 'min'",
      "\nThe above exception was the direct cause of the following exception:\n",
      "\u001b[0;31mKeyError\u001b[0m                                  Traceback (most recent call last)",
      "Input \u001b[0;32mIn [28]\u001b[0m, in \u001b[0;36m<cell line: 1>\u001b[0;34m()\u001b[0m\n\u001b[0;32m----> 1\u001b[0m \u001b[43mdf\u001b[49m\u001b[38;5;241;43m.\u001b[39;49m\u001b[43mNUM_SEEN\u001b[49m\u001b[38;5;241;43m.\u001b[39;49m\u001b[43mdescribe\u001b[49m\u001b[43m(\u001b[49m\u001b[43m)\u001b[49m\u001b[43m[\u001b[49m\u001b[38;5;124;43m'\u001b[39;49m\u001b[38;5;124;43mmin\u001b[39;49m\u001b[38;5;124;43m'\u001b[39;49m\u001b[43m]\u001b[49m\n",
      "File \u001b[0;32m~/anaconda3/envs/cmse_830/lib/python3.9/site-packages/pandas/core/series.py:958\u001b[0m, in \u001b[0;36mSeries.__getitem__\u001b[0;34m(self, key)\u001b[0m\n\u001b[1;32m    955\u001b[0m     \u001b[38;5;28;01mreturn\u001b[39;00m \u001b[38;5;28mself\u001b[39m\u001b[38;5;241m.\u001b[39m_values[key]\n\u001b[1;32m    957\u001b[0m \u001b[38;5;28;01melif\u001b[39;00m key_is_scalar:\n\u001b[0;32m--> 958\u001b[0m     \u001b[38;5;28;01mreturn\u001b[39;00m \u001b[38;5;28;43mself\u001b[39;49m\u001b[38;5;241;43m.\u001b[39;49m\u001b[43m_get_value\u001b[49m\u001b[43m(\u001b[49m\u001b[43mkey\u001b[49m\u001b[43m)\u001b[49m\n\u001b[1;32m    960\u001b[0m \u001b[38;5;28;01mif\u001b[39;00m is_hashable(key):\n\u001b[1;32m    961\u001b[0m     \u001b[38;5;66;03m# Otherwise index.get_value will raise InvalidIndexError\u001b[39;00m\n\u001b[1;32m    962\u001b[0m     \u001b[38;5;28;01mtry\u001b[39;00m:\n\u001b[1;32m    963\u001b[0m         \u001b[38;5;66;03m# For labels that don't resolve as scalars like tuples and frozensets\u001b[39;00m\n",
      "File \u001b[0;32m~/anaconda3/envs/cmse_830/lib/python3.9/site-packages/pandas/core/series.py:1069\u001b[0m, in \u001b[0;36mSeries._get_value\u001b[0;34m(self, label, takeable)\u001b[0m\n\u001b[1;32m   1066\u001b[0m     \u001b[38;5;28;01mreturn\u001b[39;00m \u001b[38;5;28mself\u001b[39m\u001b[38;5;241m.\u001b[39m_values[label]\n\u001b[1;32m   1068\u001b[0m \u001b[38;5;66;03m# Similar to Index.get_value, but we do not fall back to positional\u001b[39;00m\n\u001b[0;32m-> 1069\u001b[0m loc \u001b[38;5;241m=\u001b[39m \u001b[38;5;28;43mself\u001b[39;49m\u001b[38;5;241;43m.\u001b[39;49m\u001b[43mindex\u001b[49m\u001b[38;5;241;43m.\u001b[39;49m\u001b[43mget_loc\u001b[49m\u001b[43m(\u001b[49m\u001b[43mlabel\u001b[49m\u001b[43m)\u001b[49m\n\u001b[1;32m   1070\u001b[0m \u001b[38;5;28;01mreturn\u001b[39;00m \u001b[38;5;28mself\u001b[39m\u001b[38;5;241m.\u001b[39mindex\u001b[38;5;241m.\u001b[39m_get_values_for_loc(\u001b[38;5;28mself\u001b[39m, loc, label)\n",
      "File \u001b[0;32m~/anaconda3/envs/cmse_830/lib/python3.9/site-packages/pandas/core/indexes/base.py:3631\u001b[0m, in \u001b[0;36mIndex.get_loc\u001b[0;34m(self, key, method, tolerance)\u001b[0m\n\u001b[1;32m   3629\u001b[0m     \u001b[38;5;28;01mreturn\u001b[39;00m \u001b[38;5;28mself\u001b[39m\u001b[38;5;241m.\u001b[39m_engine\u001b[38;5;241m.\u001b[39mget_loc(casted_key)\n\u001b[1;32m   3630\u001b[0m \u001b[38;5;28;01mexcept\u001b[39;00m \u001b[38;5;167;01mKeyError\u001b[39;00m \u001b[38;5;28;01mas\u001b[39;00m err:\n\u001b[0;32m-> 3631\u001b[0m     \u001b[38;5;28;01mraise\u001b[39;00m \u001b[38;5;167;01mKeyError\u001b[39;00m(key) \u001b[38;5;28;01mfrom\u001b[39;00m \u001b[38;5;21;01merr\u001b[39;00m\n\u001b[1;32m   3632\u001b[0m \u001b[38;5;28;01mexcept\u001b[39;00m \u001b[38;5;167;01mTypeError\u001b[39;00m:\n\u001b[1;32m   3633\u001b[0m     \u001b[38;5;66;03m# If we have a listlike key, _check_indexing_error will raise\u001b[39;00m\n\u001b[1;32m   3634\u001b[0m     \u001b[38;5;66;03m#  InvalidIndexError. Otherwise we fall through and re-raise\u001b[39;00m\n\u001b[1;32m   3635\u001b[0m     \u001b[38;5;66;03m#  the TypeError.\u001b[39;00m\n\u001b[1;32m   3636\u001b[0m     \u001b[38;5;28mself\u001b[39m\u001b[38;5;241m.\u001b[39m_check_indexing_error(key)\n",
      "\u001b[0;31mKeyError\u001b[0m: 'min'"
     ]
    }
   ],
   "source": [
    "df.NUM_SEEN.describe()['min']"
   ]
  },
  {
   "cell_type": "markdown",
   "id": "89295b99-d420-4237-9eec-eeeb29976f95",
   "metadata": {},
   "source": [
    "## Total Number of Fields = 81\n",
    "## Total Number of Categorical Fields = 27\n",
    "## Total Number of Numeric Fields = 22\n",
    "## Total Number of Boolean Field = 29\n",
    "## Total Number of Datetime fields =  2\n",
    "## Total Number of Text fields = 1"
   ]
  }
 ],
 "metadata": {
  "kernelspec": {
   "display_name": "cmse_830",
   "language": "python",
   "name": "cmse_830"
  },
  "language_info": {
   "codemirror_mode": {
    "name": "ipython",
    "version": 3
   },
   "file_extension": ".py",
   "mimetype": "text/x-python",
   "name": "python",
   "nbconvert_exporter": "python",
   "pygments_lexer": "ipython3",
   "version": "3.9.12"
  }
 },
 "nbformat": 4,
 "nbformat_minor": 5
}
